{
 "cells": [
  {
   "cell_type": "markdown",
   "metadata": {},
   "source": [
    "# Download the Symptom ontology\n",
    "The first step in this exercise is to download the Symptom Ontology from its source at https://raw.githubusercontent.com/DiseaseOntology/SymptomOntology/main/symp.owl. Do so by clicking on the button below.\n"
   ]
  },
  {
   "cell_type": "code",
   "execution_count": 6,
   "metadata": {},
   "outputs": [
    {
     "data": {
      "application/vnd.jupyter.widget-view+json": {
       "model_id": "d05c0882a57a4675bf568f039255d509",
       "version_major": 2,
       "version_minor": 0
      },
      "text/plain": [
       "Button(description='Download Symptom ontology', style=ButtonStyle())"
      ]
     },
     "metadata": {},
     "output_type": "display_data"
    },
    {
     "data": {
      "application/vnd.jupyter.widget-view+json": {
       "model_id": "fab6bf4abf9e405db3b8f7b24bcc4548",
       "version_major": 2,
       "version_minor": 0
      },
      "text/plain": [
       "Label(value='')"
      ]
     },
     "metadata": {},
     "output_type": "display_data"
    },
    {
     "data": {
      "application/vnd.jupyter.widget-view+json": {
       "model_id": "4a0b1ca7942e4084a3bbe107ed12dc15",
       "version_major": 2,
       "version_minor": 0
      },
      "text/plain": [
       "Output()"
      ]
     },
     "metadata": {},
     "output_type": "display_data"
    }
   ],
   "source": [
    "from rdflib import Graph, URIRef\n",
    "import pandas as pd\n",
    "import ipywidgets as widgets\n",
    "from ipywidgets import interact, interactive\n",
    "from IPython.display import IFrame, clear_output\n",
    "import tasks\n",
    "\n",
    "soDownloadButton = widgets.Button(description=\"Download Symptom ontology\")\n",
    "label = widgets.Label(value=\"\")\n",
    "so = widgets.Output()\n",
    "display(soDownloadButton, label, so)\n",
    "df = pd.DataFrame(columns=[\"so_uri\", \"soid\", \"label\", \"subclassof\", \"aliases\"])\n",
    "@soDownloadButton.on_click\n",
    "def downloadSO(b, df=df):  \n",
    "    label.value = \"\\nDownloading the Symptom Ontology...\"\n",
    "    df = tasks.task1(df, label) \n",
    "    b.df = df\n",
    "    with so:    \n",
    "        display(df)\n",
    "     "
   ]
  },
  {
   "cell_type": "markdown",
   "metadata": {},
   "source": [
    "# Adding or updating a symptom with Wikidata\n",
    "Before adding a term to Wikidata it is crucial to verify that that term is not yet covered in Wikidata yet. There are different way to do so. The most intuitive way to do so is by label search. However caution should be taken when resolving a concept in Wikidata based on a simple text search. Wikidata is a scopeless knowledge graph, which means that due to possible multiple meanings of a term, different Wikidata items can exist for the same term, where it is possible that the terms under srutinity might not exist yet. \n",
    "A second approach is to rely on external identifiers. In the case of the symptom ontology that would be the Symptom Ontology Identifier. \n",
    "\n",
    "Below are three tabs, two to facilitate label search, a third to cater identifier search. \n",
    "\n",
    "The first tab contains a label search in Wikipedia. Each Wikipedia article is covered as Wikidata item. I.e. if a Wikipedia article exist on the topic than a Wikidata item exist as well. \n",
    "\n",
    "### TODO make screencast on how to get from a Wikipedia article to a Wikidata item\n",
    "\n",
    "The second tab does the same label search, but now on Wikidata directly. Next to having sitelinks to Wikipedia, Wikidata also contains links to public databases. \n",
    "\n",
    "Finally, the third tab contains a portal to Wikidata Query Service. This is a service that allows searching Wikidata with SPARQL. This is a query language that allows for very detailed querying of the knowledge graph. Using SPARQL is not part of this tutorial, except for this specific query, that checks whether a Wikidata item exists containing the symptom ontology ID. "
   ]
  },
  {
   "cell_type": "code",
   "execution_count": 8,
   "metadata": {},
   "outputs": [
    {
     "data": {
      "application/vnd.jupyter.widget-view+json": {
       "model_id": "00cc47de9ed04005b2674a849b601549",
       "version_major": 2,
       "version_minor": 0
      },
      "text/plain": [
       "Button(description='Search concept', style=ButtonStyle())"
      ]
     },
     "metadata": {},
     "output_type": "display_data"
    },
    {
     "data": {
      "application/vnd.jupyter.widget-view+json": {
       "model_id": "c730d9f9fd2146968df8a9611a2f3d32",
       "version_major": 2,
       "version_minor": 0
      },
      "text/plain": [
       "Output()"
      ]
     },
     "metadata": {},
     "output_type": "display_data"
    }
   ],
   "source": [
    "resolveWikiButton = widgets.Button(description=\"Search concept\")\n",
    "wikis = widgets.Output()\n",
    "display(resolveWikiButton, wikis)\n",
    "@resolveWikiButton.on_click\n",
    "def resolveWiki(b, df=soDownloadButton.df):\n",
    "    with wikis:\n",
    "        display(tasks.task2(soDownloadButton.df))"
   ]
  }
 ],
 "metadata": {
  "kernelspec": {
   "display_name": "Python 3",
   "language": "python",
   "name": "python3"
  },
  "language_info": {
   "codemirror_mode": {
    "name": "ipython",
    "version": 3
   },
   "file_extension": ".py",
   "mimetype": "text/x-python",
   "name": "python",
   "nbconvert_exporter": "python",
   "pygments_lexer": "ipython3",
   "version": "3.6.9"
  }
 },
 "nbformat": 4,
 "nbformat_minor": 4
}
