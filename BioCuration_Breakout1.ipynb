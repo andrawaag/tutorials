{
 "cells": [
  {
   "cell_type": "markdown",
   "metadata": {},
   "source": [
    "# Download the Symptom ontology\n",
    "The first step in this exercise is to download the Symptom Ontology from its source at https://raw.githubusercontent.com/DiseaseOntology/SymptomOntology/main/symp.owl. Do so by clicking on the button below.\n"
   ]
  },
  {
   "cell_type": "code",
   "execution_count": 23,
   "metadata": {},
   "outputs": [
    {
     "data": {
      "application/vnd.jupyter.widget-view+json": {
       "model_id": "44c0df5395274aadb957c88627cc6cff",
       "version_major": 2,
       "version_minor": 0
      },
      "text/plain": [
       "Button(description='Download Symptom ontology', style=ButtonStyle())"
      ]
     },
     "metadata": {},
     "output_type": "display_data"
    },
    {
     "data": {
      "application/vnd.jupyter.widget-view+json": {
       "model_id": "e73a532f24924b678e0120879a2bcc9b",
       "version_major": 2,
       "version_minor": 0
      },
      "text/plain": [
       "Label(value='')"
      ]
     },
     "metadata": {},
     "output_type": "display_data"
    },
    {
     "data": {
      "application/vnd.jupyter.widget-view+json": {
       "model_id": "202bbe444bc4442c981b5c7be821fdef",
       "version_major": 2,
       "version_minor": 0
      },
      "text/plain": [
       "Output()"
      ]
     },
     "metadata": {},
     "output_type": "display_data"
    }
   ],
   "source": [
    "from rdflib import Graph, URIRef\n",
    "import pandas as pd\n",
    "import ipywidgets as widgets\n",
    "from ipywidgets import interact, interactive\n",
    "from IPython.display import IFrame, clear_output\n",
    "\n",
    "soDownloadButton = widgets.Button(description=\"Download Symptom ontology\")\n",
    "label = widgets.Label(description=\"\")\n",
    "so = widgets.Output()\n",
    "display(soDownloadButton, label, so)\n",
    "@soDownloadButton.on_click\n",
    "def downloadSO(b):\n",
    "    # Download\n",
    "    label.value = \"\\nDownloading the Symptom Ontology...\"\n",
    "    url = \"https://raw.githubusercontent.com/DiseaseOntology/SymptomOntology/main/symp.owl\"\n",
    "\n",
    "    # Parse owl file into a graph object\n",
    "    symptomGraph = Graph()\n",
    "    symptomGraph.parse(url, format=\"xml\")\n",
    "    df = pd.DataFrame(columns=[\"so_uri\", \"soid\", \"label\", \"subclassof\", \"aliases\"])\n",
    "    qres = symptomGraph.query(\n",
    "    \"\"\"\n",
    "       PREFIX obo: <http://www.geneontology.org/formats/oboInOwl#>\n",
    "       PREFIX rdfs: <http://www.w3.org/2000/01/rdf-schema#>\n",
    "       PREFIX oboInOwl: <http://www.geneontology.org/formats/oboInOwl#>\n",
    "\n",
    "       SELECT DISTINCT ?so_uri ?soid ?label (GROUP_CONCAT(?subClassOf;separator=\"|\") as ?subclasses)\n",
    "                                            (GROUP_CONCAT(?exactsynonym;separator=\"|\") as ?exact_synonyms)\n",
    "       WHERE {\n",
    "        ?so_uri obo:id ?soid ;\n",
    "                  rdfs:label ?label .\n",
    "        FILTER NOT EXISTS {?so_uri owl:deprecated true}\n",
    "         OPTIONAL {?so_uri rdfs:subClassOf ?subClassOf ;}\n",
    "         OPTIONAL {?so_uri oboInOwl:hasExactSynonym ?exactsynonym}\n",
    "       }\n",
    "       GROUP BY ?so_uri \"\"\")\n",
    "\n",
    "    for row in qres:\n",
    "        df = df.append({\n",
    "         \"so_uri\": str(row[0]),\n",
    "         \"soid\": str(row[1]),\n",
    "         \"label\":  str(row[2]),\n",
    "         \"subclassof\": str(row[3]),\n",
    "         \"aliases\": str(row[4])\n",
    "          }, ignore_index=True)\n",
    "    label.value = \"\"\n",
    "    with so:    \n",
    "        display(df)\n",
    "    "
   ]
  },
  {
   "cell_type": "markdown",
   "metadata": {},
   "source": [
    "# Adding or updating a symptom with Wikidata\n",
    "Before adding a term to Wikidata it is crucial to verify that that term is not yet covered in Wikidata yet. There are different way to do so. The most intuitive way to do so is by label search. However caution should be taken when resolving a concept in Wikidata based on a simple text search. Wikidata is a scopeless knowledge graph, which means that due to possible multiple meanings of a term, different Wikidata items can exist for the same term, where it is possible that the terms under srutinity might not exist yet. \n",
    "A second approach is to rely on external identifiers. In the case of the symptom ontology that would be the Symptom Ontology Identifier. \n",
    "\n",
    "Below are three tabs, two to facilitate label search, a third to cater identifier search. \n",
    "\n",
    "The first tab contains a label search in Wikipedia. Each Wikipedia article is covered as Wikidata item. I.e. if a Wikipedia article exist on the topic than a Wikidata item exist as well. \n",
    "\n",
    "### TODO make screencast on how to get from a Wikipedia article to a Wikidata item\n",
    "\n",
    "The second tab does the same label search, but now on Wikidata directly. Next to having sitelinks to Wikipedia, Wikidata also contains links to public databases. \n",
    "\n",
    "Finally, the third tab contains a portal to Wikidata Query Service. This is a service that allows searching Wikidata with SPARQL. This is a query language that allows for very detailed querying of the knowledge graph. Using SPARQL is not part of this tutorial, except for this specific query, that checks whether a Wikidata item exists containing the symptom ontology ID. "
   ]
  },
  {
   "cell_type": "code",
   "execution_count": 24,
   "metadata": {},
   "outputs": [
    {
     "data": {
      "application/vnd.jupyter.widget-view+json": {
       "model_id": "6bb072887e6b45d7b1a5ef191e606e23",
       "version_major": 2,
       "version_minor": 0
      },
      "text/plain": [
       "interactive(children=(Dropdown(description='symptom', options=('wound discharge', 'periumbilic abdominal tende…"
      ]
     },
     "metadata": {},
     "output_type": "display_data"
    }
   ],
   "source": [
    "@interact\n",
    "def browse(symptom=df[\"label\"].tolist()):\n",
    "    symptomrow = df[df[\"label\"]==symptom].T\n",
    "    label = symptomrow.loc[\"label\"].values[0]\n",
    "    soid = symptomrow.loc[\"soid\"].values[0].replace(\"SYMP:\",\"\")\n",
    "    WikipediaLabelSearchTab = IFrame(src='https://en.wikipedia.org/w/index.php?&fulltext=1&ns0=1&title=Special%3ASearch&search='+label, width=1000, height=600)\n",
    "    wdLabelSearch = IFrame(src='https://www.wikidata.org/w/index.php?title=Special:Search&profile=advanced&fulltext=1&advancedSearch-current=%7B%7D&ns0=1&ns120=1&search='+label, width=1000, height=600)\n",
    "    wdqsTab=IFrame(src=\"https://query.wikidata.org/#SELECT%20%3Fsymptom%20%3FsymptomLabel%20WHERE%20%7B%0A%20%20%20%20%3Fsymptom%20wdt%3AP8656%20%22\"+soid+\"%22%20.%0A%20%20SERVICE%20wikibase%3Alabel%20%7B%20bd%3AserviceParam%20wikibase%3Alanguage%20%22%5BAUTO_LANGUAGE%5D%2Cen%22.%20%7D%0A%7D\", width=1000, height=600)\n",
    "    resultTab = IFrame(src=\"https://query.wikidata.org/embed.html#SELECT%20%3Fsymptom%20%3FsymptomLabel%20WHERE%20%7B%0A%20%20%20%20%3Fsymptom%20wdt%3AP8656%20%22\"+soid+\"%22%20.%0A%20%20SERVICE%20wikibase%3Alabel%20%7B%20bd%3AserviceParam%20wikibase%3Alanguage%20%22%5BAUTO_LANGUAGE%5D%2Cen%22.%20%7D%0A%7D\", width=1000, height=600)\n",
    "    tab1 = widgets.Output()\n",
    "    tab2 = widgets.Output()\n",
    "    tab3 = widgets.Output()\n",
    "    tab = widgets.Tab(children=[\n",
    "        tab1,\n",
    "        tab2,\n",
    "        tab3])\n",
    "    with tab1:\n",
    "        display(WikipediaLabelSearchTab)\n",
    "    with tab2:\n",
    "        display(wdLabelSearch)\n",
    "    with tab3:\n",
    "        display(wdqsTab)\n",
    "\n",
    "    tab.set_title(0, 'in Wikipedia')\n",
    "    tab.set_title(1, 'in Wikidata')\n",
    "    tab.set_title(2, 'SPARQL')\n",
    "    return display(tab)\n"
   ]
  },
  {
   "cell_type": "code",
   "execution_count": null,
   "metadata": {},
   "outputs": [],
   "source": []
  }
 ],
 "metadata": {
  "kernelspec": {
   "display_name": "Python 3",
   "language": "python",
   "name": "python3"
  },
  "language_info": {
   "codemirror_mode": {
    "name": "ipython",
    "version": 3
   },
   "file_extension": ".py",
   "mimetype": "text/x-python",
   "name": "python",
   "nbconvert_exporter": "python",
   "pygments_lexer": "ipython3",
   "version": "3.6.9"
  }
 },
 "nbformat": 4,
 "nbformat_minor": 4
}
