{
 "cells": [
  {
   "cell_type": "markdown",
   "metadata": {},
   "source": [
    "# Download the Symptom ontology\n",
    "The first step in this exercise is to download the Symptom Ontology from its source at https://raw.githubusercontent.com/DiseaseOntology/SymptomOntology/main/symp.owl. Do so by clicking on the button below.\n"
   ]
  },
  {
   "cell_type": "code",
   "execution_count": 1,
   "metadata": {},
   "outputs": [
    {
     "data": {
      "application/vnd.jupyter.widget-view+json": {
       "model_id": "14caf4a7c6094821b498de4abb5d8d9e",
       "version_major": 2,
       "version_minor": 0
      },
      "text/plain": [
       "Button(description='Download Symptom ontology', style=ButtonStyle())"
      ]
     },
     "metadata": {},
     "output_type": "display_data"
    },
    {
     "data": {
      "application/vnd.jupyter.widget-view+json": {
       "model_id": "f3d5b4b513d14a5c8959783cc3c3cea2",
       "version_major": 2,
       "version_minor": 0
      },
      "text/plain": [
       "Label(value='')"
      ]
     },
     "metadata": {},
     "output_type": "display_data"
    },
    {
     "data": {
      "application/vnd.jupyter.widget-view+json": {
       "model_id": "baf4798768a548a7983b71b1a81117b0",
       "version_major": 2,
       "version_minor": 0
      },
      "text/plain": [
       "Output()"
      ]
     },
     "metadata": {},
     "output_type": "display_data"
    }
   ],
   "source": [
    "import tasks\n",
    "tasks.task1()"
   ]
  },
  {
   "cell_type": "markdown",
   "metadata": {},
   "source": [
    "# Adding or updating a symptom with Wikidata\n",
    "Before adding a term to Wikidata it is crucial to verify that that term is not yet covered in Wikidata yet. There are different way to do so. The most intuitive way to do so is by label search. However caution should be taken when resolving a concept in Wikidata based on a simple text search. Wikidata is a scopeless knowledge graph, which means that due to possible multiple meanings of a term, different Wikidata items can exist for the same term, where it is possible that the terms under srutinity might not exist yet. \n",
    "A second approach is to rely on external identifiers. In the case of the symptom ontology that would be the Symptom Ontology Identifier. \n",
    "\n",
    "Below are three tabs, two to facilitate label search, a third to cater identifier search. \n",
    "\n",
    "The first tab contains a label search in Wikipedia. Each Wikipedia article is covered as Wikidata item. I.e. if a Wikipedia article exist on the topic than a Wikidata item exist as well. \n",
    "\n",
    "### TODO make screencast on how to get from a Wikipedia article to a Wikidata item\n",
    "\n",
    "The second tab does the same label search, but now on Wikidata directly. Next to having sitelinks to Wikipedia, Wikidata also contains links to public databases. \n",
    "\n",
    "Finally, the third tab contains a portal to Wikidata Query Service. This is a service that allows searching Wikidata with SPARQL. This is a query language that allows for very detailed querying of the knowledge graph. Using SPARQL is not part of this tutorial, except for this specific query, that checks whether a Wikidata item exists containing the symptom ontology ID. "
   ]
  },
  {
   "cell_type": "code",
   "execution_count": 2,
   "metadata": {},
   "outputs": [
    {
     "data": {
      "application/vnd.jupyter.widget-view+json": {
       "model_id": "e5cf8120a83d4325ac76be1be60c9000",
       "version_major": 2,
       "version_minor": 0
      },
      "text/plain": [
       "interactive(children=(Dropdown(description='symptom', options=('conjunctivitis', 'tinnitus', 'general symptom'…"
      ]
     },
     "metadata": {},
     "output_type": "display_data"
    }
   ],
   "source": [
    "tasks.task2()\n"
   ]
  },
  {
   "cell_type": "code",
   "execution_count": null,
   "metadata": {},
   "outputs": [],
   "source": []
  }
 ],
 "metadata": {
  "kernelspec": {
   "display_name": "Python 3",
   "language": "python",
   "name": "python3"
  },
  "language_info": {
   "codemirror_mode": {
    "name": "ipython",
    "version": 3
   },
   "file_extension": ".py",
   "mimetype": "text/x-python",
   "name": "python",
   "nbconvert_exporter": "python",
   "pygments_lexer": "ipython3",
   "version": "3.6.9"
  }
 },
 "nbformat": 4,
 "nbformat_minor": 4
}
